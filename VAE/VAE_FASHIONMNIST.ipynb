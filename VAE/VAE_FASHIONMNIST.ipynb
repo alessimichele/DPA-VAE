{
 "cells": [
  {
   "cell_type": "code",
   "execution_count": 1,
   "metadata": {},
   "outputs": [],
   "source": [
    "import torch\n",
    "from torch import nn\n",
    "\n",
    "INPUT_DIM = 784\n",
    "H_DIM = 200\n",
    "Z_DIM = 2\n",
    "\n",
    "class VariationalAutoEncoder(nn.Module):\n",
    "    def __init__(self, input_dim, h_dim=200, z_dim=20):\n",
    "        super().__init__()\n",
    "        # encoder\n",
    "        self.img_2hid = nn.Linear(input_dim, h_dim)\n",
    "        self.hid_2mu = nn.Linear(h_dim, z_dim)\n",
    "        self.hid_2sigma = nn.Linear(h_dim, z_dim)\n",
    "\n",
    "        # decoder\n",
    "        self.z_2hid = nn.Linear(z_dim, h_dim)\n",
    "        self.hid_2img = nn.Linear(h_dim, input_dim)\n",
    "\n",
    "        self.relu = nn.ReLU()\n",
    "\n",
    "    def encode(self, x):\n",
    "        h = self.relu(self.img_2hid(x))\n",
    "        mu, sigma = self.hid_2mu(h), self.hid_2sigma(h)\n",
    "        return mu, sigma\n",
    "\n",
    "    def decode(self, z):\n",
    "        h = self.relu(self.z_2hid(z))\n",
    "        return torch.sigmoid(self.hid_2img(h))\n",
    "\n",
    "    def forward(self, x):\n",
    "        mu, sigma = self.encode(x)\n",
    "        # reparametrization trick\n",
    "        epsilon = torch.randn_like(sigma)\n",
    "        z_new = mu + sigma*epsilon\n",
    "        x_reconstructed = self.decode(z_new)\n",
    "        return x_reconstructed, mu, sigma\n"
   ]
  },
  {
   "cell_type": "code",
   "execution_count": 2,
   "metadata": {},
   "outputs": [],
   "source": [
    "import torch\n",
    "import torchvision.datasets as datasets  # Standard datasets\n",
    "from tqdm import tqdm\n",
    "from torch import nn, optim\n",
    "from torchvision import transforms\n",
    "from torchvision.utils import save_image\n",
    "from torch.utils.data import DataLoader\n",
    "\n",
    "# Set random seed for reproducibility\n",
    "seed = 42\n",
    "torch.manual_seed(seed)\n",
    "\n",
    "# Configuration\n",
    "DEVICE = torch.device(\"cuda\" if torch.cuda.is_available() else \"cpu\")\n",
    "NUM_EPOCHS = 30\n",
    "BATCH_SIZE = 32\n",
    "LR_RATE = 3e-4  \n",
    "\n",
    "# Dataset Loading\n",
    "dataset = datasets.FashionMNIST(root=\"dataset/\", train=True, transform=transforms.ToTensor(), download=True)\n",
    "train_loader = DataLoader(dataset=dataset, batch_size=BATCH_SIZE, shuffle=True)\n",
    "model = VariationalAutoEncoder(INPUT_DIM, H_DIM, Z_DIM).to(DEVICE)\n",
    "optimizer = optim.Adam(model.parameters(), lr=LR_RATE)\n",
    "loss_fn = nn.BCELoss(reduction=\"sum\")"
   ]
  },
  {
   "cell_type": "code",
   "execution_count": 3,
   "metadata": {},
   "outputs": [
    {
     "name": "stderr",
     "output_type": "stream",
     "text": [
      "0it [00:00, ?it/s]"
     ]
    },
    {
     "name": "stderr",
     "output_type": "stream",
     "text": [
      "1875it [00:08, 230.78it/s, loss=1.04e+4]\n",
      "1875it [00:08, 231.83it/s, loss=1.01e+4]\n",
      "1875it [00:08, 233.33it/s, loss=9.13e+3]\n",
      "1875it [00:08, 232.52it/s, loss=9.98e+3]\n",
      "1875it [00:08, 232.89it/s, loss=9.5e+3] \n",
      "1875it [00:08, 233.51it/s, loss=9.46e+3]\n",
      "1875it [00:08, 234.33it/s, loss=9.22e+3]\n",
      "1875it [00:08, 232.83it/s, loss=9.37e+3]\n",
      "1875it [00:08, 232.80it/s, loss=1.05e+4]\n",
      "1875it [00:08, 232.67it/s, loss=9.18e+3]\n",
      "1875it [00:08, 234.21it/s, loss=8.62e+3]\n",
      "1875it [00:08, 229.89it/s, loss=9.08e+3]\n",
      "1875it [00:08, 231.28it/s, loss=1.37e+4]\n",
      "1875it [00:08, 233.22it/s, loss=9.68e+3]\n",
      "1875it [00:08, 232.57it/s, loss=1.28e+4]\n",
      "1875it [00:07, 234.92it/s, loss=9.2e+3] \n",
      "1875it [00:07, 242.55it/s, loss=9.64e+3]\n",
      "1875it [00:07, 244.58it/s, loss=1.02e+4]\n",
      "1875it [00:07, 242.19it/s, loss=1.28e+4]\n",
      "1875it [00:07, 241.84it/s, loss=1.03e+4]\n",
      "1875it [00:07, 242.35it/s, loss=8.4e+3] \n",
      "1875it [00:07, 237.47it/s, loss=1.32e+4]\n",
      "1875it [00:07, 235.12it/s, loss=9.68e+3]\n",
      "1875it [00:07, 245.66it/s, loss=1.1e+4] \n",
      "1875it [00:07, 243.35it/s, loss=9.56e+3]\n",
      "1875it [00:07, 242.59it/s, loss=1.11e+4]\n",
      "1875it [00:07, 243.44it/s, loss=9.36e+3]\n",
      "1875it [00:07, 243.79it/s, loss=9.68e+3]\n",
      "1875it [00:07, 243.17it/s, loss=8.74e+3]\n",
      "1875it [00:07, 244.49it/s, loss=9.8e+3] \n"
     ]
    }
   ],
   "source": [
    "# Training\n",
    "for epoch in range(NUM_EPOCHS):\n",
    "    loop = tqdm(enumerate(train_loader))\n",
    "    for i, (x, _) in loop:\n",
    "        # forward pass\n",
    "        x = x.to(DEVICE).view(x.shape[0], INPUT_DIM)\n",
    "        x_reconstructed, mu, sigma = model(x)\n",
    "\n",
    "        # compute loss\n",
    "        reconstruction_loss = loss_fn(x_reconstructed, x)\n",
    "        kl_div = -torch.sum(1 + torch.log(sigma.pow(2)) - mu.pow(2) - sigma.pow(2))\n",
    "\n",
    "        # backprop\n",
    "        loss = reconstruction_loss + kl_div\n",
    "        optimizer.zero_grad()\n",
    "        loss.backward()\n",
    "        optimizer.step()\n",
    "        loop.set_postfix(loss=loss.item())"
   ]
  },
  {
   "cell_type": "code",
   "execution_count": 5,
   "metadata": {},
   "outputs": [],
   "source": [
    "torch.save(model.state_dict(), f'output/FashionMNIST/model_{Z_DIM}.pth')"
   ]
  },
  {
   "cell_type": "code",
   "execution_count": null,
   "metadata": {},
   "outputs": [],
   "source": []
  },
  {
   "cell_type": "code",
   "execution_count": null,
   "metadata": {},
   "outputs": [],
   "source": []
  },
  {
   "cell_type": "code",
   "execution_count": null,
   "metadata": {},
   "outputs": [],
   "source": []
  },
  {
   "cell_type": "code",
   "execution_count": null,
   "metadata": {},
   "outputs": [],
   "source": []
  },
  {
   "cell_type": "code",
   "execution_count": null,
   "metadata": {},
   "outputs": [],
   "source": []
  },
  {
   "cell_type": "code",
   "execution_count": 9,
   "metadata": {},
   "outputs": [],
   "source": [
    "# not useful\n",
    "\n",
    "def inference(label, num_examples=1):\n",
    "    \"\"\"\n",
    "    Generates (num_examples) of a particular digit.\n",
    "    Specifically we extract an example of each digit,\n",
    "    then after we have the mu, sigma representation for\n",
    "    each digit we can sample from that.\n",
    "\n",
    "    After we sample we can run the decoder part of the VAE\n",
    "    and generate examples.\n",
    "    \"\"\"\n",
    "    for x, y in dataset:\n",
    "        if y == label:\n",
    "            images = x\n",
    "            break\n",
    "    \n",
    "    mu, sigma = model.encode(images.view(1, 784))\n",
    "\n",
    "    for example in range(num_examples):\n",
    "        epsilon = torch.randn_like(sigma)\n",
    "        z = mu + sigma * epsilon\n",
    "        out = model.decode(z)\n",
    "        out = out.view(-1, 1, 28, 28)\n",
    "        save_image(out, f\"output/FashionMNIST/generated_{label}_ex{example}.png\")\n",
    "\n",
    "for label in range(10):\n",
    "    inference(label, num_examples = 4)"
   ]
  }
 ],
 "metadata": {
  "kernelspec": {
   "display_name": "Python 3",
   "language": "python",
   "name": "python3"
  },
  "language_info": {
   "codemirror_mode": {
    "name": "ipython",
    "version": 3
   },
   "file_extension": ".py",
   "mimetype": "text/x-python",
   "name": "python",
   "nbconvert_exporter": "python",
   "pygments_lexer": "ipython3",
   "version": "3.11.1"
  },
  "orig_nbformat": 4
 },
 "nbformat": 4,
 "nbformat_minor": 2
}
