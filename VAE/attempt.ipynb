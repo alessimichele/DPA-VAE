{
 "cells": [
  {
   "cell_type": "code",
   "execution_count": 1,
   "metadata": {},
   "outputs": [],
   "source": [
    "# Let's build a Gaussian Mixture Variational Autoencoder (GMVAE) in PyTorch\n",
    "# We'll use the MNIST dataset\n",
    "# We'll use a Mixture of Gaussians as prior and Gaussian posterior\n",
    "\n",
    "# Import libraries\n",
    "import numpy as np\n",
    "import torch\n",
    "import torch.nn as nn\n",
    "import torch.nn.functional as F\n",
    "import torch.optim as optim\n",
    "from torchvision import datasets,transforms\n",
    "from torch.distributions import Normal, Multinomial, kl_divergence\n"
   ]
  },
  {
   "cell_type": "markdown",
   "metadata": {},
   "source": [
    "The generative model is $p_{\\beta, \\theta} = p(w)p(z)p_{\\beta}(x|w,z)p_{\\theta}(y|x)$\n",
    "\n",
    "where: \\\n",
    "$w \\sim N(0, Id)$ \\\n",
    "$z \\sim Mult(\\pi)$ \\\n",
    "$x|z,x \\sim \\prod_{k=1}^{K} N(\\mu_{z_k})(w;beta), diag(\\sigma^2_{z_k})(w;\\beta)))^{z_k}$ \\\n",
    "$y|x \\sim N(\\mu(x;\\theta), diag(\\sigma^2(x; \\theta)))$\n",
    "\n",
    "where $\\mu_{z_k}(,\\beta), \\ \\sigma^2_{z_k}(,\\beta), \\ \\mu(,\\theta), \\ \\sigma^2(,\\theta)$ are given by neural networks with parameters beta and theta respectively.\n",
    "That is, the observed\n",
    "sample y is generated from a neural network observation model parametrised by theta and the contin- uous latent variable x. Furthermore, the distribution of x|w is a Gaussian mixture with means and variances specified by another neural network model parametrised by beta and with input w."
   ]
  },
  {
   "cell_type": "code",
   "execution_count": null,
   "metadata": {},
   "outputs": [],
   "source": [
    "# define the model\n",
    "\n",
    "class GMVAE(nn.Module):\n",
    "    def __init__(self, INPUT_DIM, H_DIM, Z_DIM, num_clusters):\n",
    "        super(GMVAE, self).__init__()\n",
    "        self.INPUT_DIM = INPUT_DIM\n",
    "        self.H_DIM = H_DIM\n",
    "        self.Z_DIM = Z_DIM\n",
    "        self.num_clusters = num_clusters\n",
    "\n",
    "        # encoder\n",
    "        pass\n",
    "\n",
    "        # decoder\n",
    "        pass\n",
    "\n",
    "        # prior\n",
    "        pass\n",
    "\n",
    "    def encode(self, x):\n",
    "        # encoder\n",
    "        pass\n",
    "\n",
    "        # posterior\n",
    "        pass\n",
    "\n",
    "        return mu, sigma, pi\n",
    "\n",
    "    def decode(self, z):\n",
    "        # decoder\n",
    "        pass\n",
    "\n",
    "        # likelihood\n",
    "        pass    \n",
    "\n",
    "    def forward(self, x):\n",
    "        # encode\n",
    "        w = Normal(torch.zeros(self.num_clusters, self.Z_DIM), torch.ones(self.num_clusters, self.Z_DIM)).sample()\n",
    "        mu, sigma, pi = self.encode(x)\n",
    "        y = Multinomial(1, pi).sample()\n",
    "\n",
    "\n",
    "        # decode\n",
    "        pass\n",
    "\n",
    "        # prior\n",
    "        pass\n",
    "\n",
    "        # posterior\n",
    "        pass\n",
    "\n",
    "        # likelihood\n",
    "        pass\n",
    "\n",
    "        # KL divergence\n",
    "        pass\n",
    "\n",
    "        # ELBO\n",
    "        pass\n",
    "\n",
    "        # loss\n",
    "        pass\n",
    "\n",
    "        return \n",
    "   \n",
    "    def reparameterize(self, mu, sigma, w):\n",
    "        eps_z = torch.randn_like(sigma)\n",
    "        eps_w = torch.randn_like(w)\n",
    "        z = mu + eps_z * torch.sqrt(sigma)\n",
    "        w = w + eps_w * torch.sqrt(torch.ones_like(w))\n",
    "        return z, w    \n",
    "\n",
    "\n",
    "\n",
    "\n"
   ]
  },
  {
   "cell_type": "code",
   "execution_count": 10,
   "metadata": {},
   "outputs": [
    {
     "data": {
      "text/plain": [
       "tensor([0., 1.])"
      ]
     },
     "execution_count": 10,
     "metadata": {},
     "output_type": "execute_result"
    }
   ],
   "source": [
    "Multinomial(1, torch.tensor([0.2,0.8])).sample()"
   ]
  }
 ],
 "metadata": {
  "kernelspec": {
   "display_name": "Python 3",
   "language": "python",
   "name": "python3"
  },
  "language_info": {
   "codemirror_mode": {
    "name": "ipython",
    "version": 3
   },
   "file_extension": ".py",
   "mimetype": "text/x-python",
   "name": "python",
   "nbconvert_exporter": "python",
   "pygments_lexer": "ipython3",
   "version": "3.11.1"
  }
 },
 "nbformat": 4,
 "nbformat_minor": 2
}
