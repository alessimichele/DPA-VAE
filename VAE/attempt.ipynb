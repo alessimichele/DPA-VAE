{
 "cells": [
  {
   "cell_type": "code",
   "execution_count": 1,
   "metadata": {},
   "outputs": [],
   "source": [
    "# Let's build a Gaussian Mixture Variational Autoencoder (GMVAE) in PyTorch\n",
    "# We'll use the MNIST dataset\n",
    "# We'll use a Mixture of Gaussians as prior and Gaussian posterior\n",
    "\n",
    "# Import libraries\n",
    "import numpy as np\n",
    "import torch\n",
    "import torch.nn as nn\n",
    "import torch.nn.functional as F\n",
    "import torch.optim as optim\n",
    "from torchvision import datasets,transforms\n",
    "from torch.distributions import Normal, Multinomial, kl_divergence\n"
   ]
  },
  {
   "cell_type": "markdown",
   "metadata": {},
   "source": [
    "The generative model is $p_{\\beta, \\theta} = p(w)p(z)p_{\\beta}(x|w,z)p_{\\theta}(y|x)$\n",
    "\n",
    "where: \\\n",
    "$w \\sim N(0, Id)$ \\\n",
    "$z \\sim Mult(\\pi)$ \\\n",
    "$x|z,x \\sim \\prod_{k=1}^{K} N(\\mu_{z_k})(w;beta), diag(\\sigma^2_{z_k})(w;\\beta)))^{z_k}$ \\\n",
    "$y|x \\sim N(\\mu(x;\\theta), diag(\\sigma^2(x; \\theta)))$\n",
    "\n",
    "where $\\mu_{z_k}(,\\beta), \\ \\sigma^2_{z_k}(,\\beta), \\ \\mu(,\\theta), \\ \\sigma^2(,\\theta)$ are given by neural networks with parameters beta and theta respectively.\n",
    "That is, the observed\n",
    "sample y is generated from a neural network observation model parametrised by theta and the contin- uous latent variable x. Furthermore, the distribution of x|w is a Gaussian mixture with means and variances specified by another neural network model parametrised by beta and with input w."
   ]
  },
  {
   "cell_type": "code",
   "execution_count": 35,
   "metadata": {},
   "outputs": [
    {
     "name": "stdout",
     "output_type": "stream",
     "text": [
      "x_hat shape: torch.Size([784])\n",
      "mu shape: torch.Size([10, 2])\n",
      "sigma shape: torch.Size([10, 2])\n",
      "pi shape: torch.Size([10])\n"
     ]
    }
   ],
   "source": [
    "# define the model\n",
    "\n",
    "class GMVAE(nn.Module):\n",
    "    def __init__(self, INPUT_DIM, H_DIM, W_DIM, K):\n",
    "        super(GMVAE, self).__init__()\n",
    "        self.INPUT_DIM = INPUT_DIM\n",
    "        self.H_DIM = H_DIM\n",
    "        self.W_DIM = W_DIM\n",
    "        self.K = K\n",
    "\n",
    "        # encoder\n",
    "        self.img_2hid = nn.Linear(self.INPUT_DIM, self.H_DIM)\n",
    "        self.hid_2mu = nn.Linear(self.H_DIM, self.W_DIM*K)\n",
    "        self.hid_2sigma = nn.Linear(self.H_DIM, self.W_DIM*K)\n",
    "        self.hid_2pi = nn.Linear(self.H_DIM, self.K)\n",
    "\n",
    "        # decoder\n",
    "        self.z_2hid = nn.Linear(self.W_DIM, self.H_DIM)\n",
    "        self.hid_2img = nn.Linear(self.H_DIM, self.INPUT_DIM)\n",
    "\n",
    "        self.relu = nn.ReLU()\n",
    "\n",
    "    def encode(self, x):\n",
    "        h = self.relu(self.img_2hid(x))\n",
    "        mu = self.relu(self.hid_2mu(h))\n",
    "        mu = mu.clone().detach().reshape(self.K, self.W_DIM)\n",
    "        sigma = torch.exp(self.relu(self.hid_2sigma(h)))\n",
    "        sigma = sigma.clone().detach().reshape(self.K, self.W_DIM)\n",
    "        pi = self.relu(self.hid_2pi(h))\n",
    "        return mu, sigma, pi\n",
    "\n",
    "    def decode(self, z):\n",
    "        h = self.relu(self.z_2hid(z))\n",
    "        return torch.sigmoid(self.hid_2img(h))\n",
    "   \n",
    "    def forward(self, x):\n",
    "        mu, sigma, pi = self.encode(x)\n",
    "        zs = [(torch.tensor([pi[i]]*self.W_DIM) * self.reparametrize(mu[i], sigma[i])) for i in range(self.K)]\n",
    "        z = torch.sum(torch.stack(zs), dim=0)\n",
    "        x_hat = self.decode(z)\n",
    "        return x_hat, mu, sigma, pi\n",
    "\n",
    "    def reparametrize(self, mu, sigma):\n",
    "        eps = torch.randn_like(sigma)\n",
    "  \n",
    "        return mu + eps * sigma\n",
    "\n",
    "\n",
    "\n",
    "\n",
    "\n",
    "\n"
   ]
  },
  {
   "cell_type": "code",
   "execution_count": 33,
   "metadata": {},
   "outputs": [],
   "source": [
    "# training loop         \n",
    "\n",
    "def train(model, device, train_loader, optimizer, epoch):\n",
    "    model.train()\n",
    "    train_loss = 0\n",
    "    for batch_idx, (x, _) in enumerate(train_loader):\n",
    "        x = x.to(device)\n",
    "        optimizer.zero_grad()\n",
    "        x_hat, mu, sigma, pi = model(x.view(-1, INPUT_DIM))\n",
    "        loss = loss_function(x_hat, x.view(-1, INPUT_DIM), mu, sigma, pi)\n",
    "        loss.backward()\n",
    "        train_loss += loss.item()\n",
    "        optimizer.step()\n",
    "        if batch_idx % 100 == 0:\n",
    "            print('Train Epoch: {} [{}/{} ({:.0f}%)]\\tLoss: {:.6f}'.format(\n",
    "                epoch, batch_idx * len(x), len(train_loader.dataset),\n",
    "                100. * batch_idx / len(train_loader),\n",
    "                loss.item() / len(x)))\n",
    "\n",
    "    print('====> Epoch: {} Average loss: {:.4f}'.format(\n",
    "          epoch, train_loss / len(train_loader.dataset)))"
   ]
  },
  {
   "cell_type": "code",
   "execution_count": null,
   "metadata": {},
   "outputs": [],
   "source": []
  }
 ],
 "metadata": {
  "kernelspec": {
   "display_name": "Python 3",
   "language": "python",
   "name": "python3"
  },
  "language_info": {
   "codemirror_mode": {
    "name": "ipython",
    "version": 3
   },
   "file_extension": ".py",
   "mimetype": "text/x-python",
   "name": "python",
   "nbconvert_exporter": "python",
   "pygments_lexer": "ipython3",
   "version": "3.11.1"
  }
 },
 "nbformat": 4,
 "nbformat_minor": 2
}
